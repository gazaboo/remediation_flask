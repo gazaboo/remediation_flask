{
 "cells": [
  {
   "cell_type": "code",
   "execution_count": 3,
   "id": "0a966e88-e49a-4aae-be6c-753a8abaf2a5",
   "metadata": {},
   "outputs": [
    {
     "data": {
      "text/plain": [
       "['/static/lapin.png', '/static/alien.png', '/static/montagne.png']"
      ]
     },
     "execution_count": 3,
     "metadata": {},
     "output_type": "execute_result"
    }
   ],
   "source": [
    "files = ['lapin.png', 'alien.png', 'montagne.png']\n",
    "\n",
    "[ '/static/' + file  for file in files ]"
   ]
  },
  {
   "cell_type": "code",
   "execution_count": null,
   "id": "b18e56fe-6243-4f43-809b-d22a20443403",
   "metadata": {},
   "outputs": [],
   "source": []
  }
 ],
 "metadata": {
  "kernelspec": {
   "display_name": "Python 3 (ipykernel)",
   "language": "python",
   "name": "python3"
  },
  "language_info": {
   "codemirror_mode": {
    "name": "ipython",
    "version": 3
   },
   "file_extension": ".py",
   "mimetype": "text/x-python",
   "name": "python",
   "nbconvert_exporter": "python",
   "pygments_lexer": "ipython3",
   "version": "3.12.2"
  }
 },
 "nbformat": 4,
 "nbformat_minor": 5
}
